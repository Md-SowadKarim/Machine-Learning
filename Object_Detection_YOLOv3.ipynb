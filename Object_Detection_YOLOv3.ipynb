{
 "cells": [
  {
   "cell_type": "markdown",
   "metadata": {
    "colab_type": "text",
    "id": "wQaH53afmrZC"
   },
   "source": [
    "# Object Detection In Google Colab (GPU Enablbed)\n",
    "\n"
   ]
  },
  {
   "cell_type": "markdown",
   "metadata": {
    "colab_type": "text",
    "id": "ngQsy2AT256U"
   },
   "source": [
    "# Cloning and Building Darknet\n",
    "\n"
   ]
  },
  {
   "cell_type": "code",
   "execution_count": 1,
   "metadata": {
    "colab": {
     "base_uri": "https://localhost:8080/",
     "height": 108
    },
    "colab_type": "code",
    "executionInfo": {
     "elapsed": 13862,
     "status": "ok",
     "timestamp": 1584940965673,
     "user": {
      "displayName": "Shubham Kumar",
      "photoUrl": "https://lh3.googleusercontent.com/a-/AOh14GhsHSvTm2DEYH648pv8eOptSKPeY2Yc8fmgLzvh=s64",
      "userId": "16610372454078100665"
     },
     "user_tz": -330
    },
    "id": "HCs4VQmESACk",
    "outputId": "d0e3c8c3-93ab-4803-ca95-afa80462696f"
   },
   "outputs": [
    {
     "name": "stderr",
     "output_type": "stream",
     "text": [
      "Cloning into 'darknet'...\n",
      "Updating files:   8% (170/2023)\n",
      "Updating files:   9% (183/2023)\n",
      "Updating files:   9% (198/2023)\n",
      "Updating files:  10% (203/2023)\n",
      "Updating files:  11% (223/2023)\n",
      "Updating files:  12% (243/2023)\n",
      "Updating files:  13% (263/2023)\n",
      "Updating files:  13% (275/2023)\n",
      "Updating files:  14% (284/2023)\n",
      "Updating files:  15% (304/2023)\n",
      "Updating files:  16% (324/2023)\n",
      "Updating files:  17% (344/2023)\n",
      "Updating files:  18% (365/2023)\n",
      "Updating files:  19% (385/2023)\n",
      "Updating files:  20% (405/2023)\n",
      "Updating files:  21% (425/2023)\n",
      "Updating files:  22% (446/2023)\n",
      "Updating files:  23% (466/2023)\n",
      "Updating files:  24% (486/2023)\n",
      "Updating files:  25% (506/2023)\n",
      "Updating files:  25% (509/2023)\n",
      "Updating files:  26% (526/2023)\n",
      "Updating files:  27% (547/2023)\n",
      "Updating files:  28% (567/2023)\n",
      "Updating files:  29% (587/2023)\n",
      "Updating files:  30% (607/2023)\n",
      "Updating files:  31% (628/2023)\n",
      "Updating files:  32% (648/2023)\n",
      "Updating files:  33% (668/2023)\n",
      "Updating files:  34% (688/2023)\n",
      "Updating files:  35% (709/2023)\n",
      "Updating files:  36% (729/2023)\n",
      "Updating files:  37% (749/2023)\n",
      "Updating files:  38% (769/2023)\n",
      "Updating files:  39% (789/2023)\n",
      "Updating files:  40% (810/2023)\n",
      "Updating files:  41% (830/2023)\n",
      "Updating files:  42% (850/2023)\n",
      "Updating files:  43% (870/2023)\n",
      "Updating files:  44% (891/2023)\n",
      "Updating files:  45% (911/2023)\n",
      "Updating files:  46% (931/2023)\n",
      "Updating files:  47% (951/2023)\n",
      "Updating files:  48% (972/2023)\n",
      "Updating files:  49% (992/2023)\n",
      "Updating files:  50% (1012/2023)\n",
      "Updating files:  51% (1032/2023)\n",
      "Updating files:  52% (1052/2023)\n",
      "Updating files:  53% (1073/2023)\n",
      "Updating files:  54% (1093/2023)\n",
      "Updating files:  55% (1113/2023)\n",
      "Updating files:  56% (1133/2023)\n",
      "Updating files:  57% (1154/2023)\n",
      "Updating files:  58% (1174/2023)\n",
      "Updating files:  59% (1194/2023)\n",
      "Updating files:  60% (1214/2023)\n",
      "Updating files:  61% (1235/2023)\n",
      "Updating files:  62% (1255/2023)\n",
      "Updating files:  63% (1275/2023)\n",
      "Updating files:  64% (1295/2023)\n",
      "Updating files:  65% (1315/2023)\n",
      "Updating files:  66% (1336/2023)\n",
      "Updating files:  67% (1356/2023)\n",
      "Updating files:  68% (1376/2023)\n",
      "Updating files:  69% (1396/2023)\n",
      "Updating files:  70% (1417/2023)\n",
      "Updating files:  71% (1437/2023)\n",
      "Updating files:  72% (1457/2023)\n",
      "Updating files:  73% (1477/2023)\n",
      "Updating files:  74% (1498/2023)\n",
      "Updating files:  75% (1518/2023)\n",
      "Updating files:  76% (1538/2023)\n",
      "Updating files:  77% (1558/2023)\n",
      "Updating files:  78% (1578/2023)\n",
      "Updating files:  79% (1599/2023)\n",
      "Updating files:  80% (1619/2023)\n",
      "Updating files:  81% (1639/2023)\n",
      "Updating files:  82% (1659/2023)\n",
      "Updating files:  82% (1674/2023)\n",
      "Updating files:  83% (1680/2023)\n",
      "Updating files:  84% (1700/2023)\n",
      "Updating files:  85% (1720/2023)\n",
      "Updating files:  86% (1740/2023)\n",
      "Updating files:  87% (1761/2023)\n",
      "Updating files:  88% (1781/2023)\n",
      "Updating files:  89% (1801/2023)\n",
      "Updating files:  90% (1821/2023)\n",
      "Updating files:  91% (1841/2023)\n",
      "Updating files:  92% (1862/2023)\n",
      "Updating files:  93% (1882/2023)\n",
      "Updating files:  94% (1902/2023)\n",
      "Updating files:  95% (1922/2023)\n",
      "Updating files:  96% (1943/2023)\n",
      "Updating files:  97% (1963/2023)\n",
      "Updating files:  98% (1983/2023)\n",
      "Updating files:  99% (2003/2023)\n",
      "Updating files: 100% (2023/2023)\n",
      "Updating files: 100% (2023/2023), done.\n"
     ]
    }
   ],
   "source": [
    "# clone darknet repo\n",
    "!git clone https://github.com/AlexeyAB/darknet"
   ]
  },
  {
   "cell_type": "code",
   "execution_count": 2,
   "metadata": {
    "colab": {
     "base_uri": "https://localhost:8080/",
     "height": 35
    },
    "colab_type": "code",
    "executionInfo": {
     "elapsed": 11294,
     "status": "ok",
     "timestamp": 1584941160565,
     "user": {
      "displayName": "Shubham Kumar",
      "photoUrl": "https://lh3.googleusercontent.com/a-/AOh14GhsHSvTm2DEYH648pv8eOptSKPeY2Yc8fmgLzvh=s64",
      "userId": "16610372454078100665"
     },
     "user_tz": -330
    },
    "id": "5H-Taj06Tw1c",
    "outputId": "c5769a15-31be-46cd-8a5d-941bb903e6ce"
   },
   "outputs": [
    {
     "name": "stdout",
     "output_type": "stream",
     "text": [
      "C:\\Users\\sowad\\Downloads\\Compressed\\ai porject\\Machine-Learning\\darknet\n"
     ]
    },
    {
     "name": "stderr",
     "output_type": "stream",
     "text": [
      "'sed' is not recognized as an internal or external command,\n",
      "operable program or batch file.\n",
      "'sed' is not recognized as an internal or external command,\n",
      "operable program or batch file.\n",
      "'sed' is not recognized as an internal or external command,\n",
      "operable program or batch file.\n"
     ]
    }
   ],
   "source": [
    "# change makefile to have GPU and OPENCV enabled\n",
    "%cd darknet\n",
    "!sed -i 's/OPENCV=0/OPENCV=1/' Makefile\n",
    "!sed -i 's/GPU=0/GPU=1/' Makefile\n",
    "!sed -i 's/CUDNN=0/CUDNN=1/' Makefile"
   ]
  },
  {
   "cell_type": "code",
   "execution_count": 3,
   "metadata": {
    "colab": {
     "base_uri": "https://localhost:8080/",
     "height": 90
    },
    "colab_type": "code",
    "executionInfo": {
     "elapsed": 4196,
     "status": "ok",
     "timestamp": 1584941171916,
     "user": {
      "displayName": "Shubham Kumar",
      "photoUrl": "https://lh3.googleusercontent.com/a-/AOh14GhsHSvTm2DEYH648pv8eOptSKPeY2Yc8fmgLzvh=s64",
      "userId": "16610372454078100665"
     },
     "user_tz": -330
    },
    "id": "aNv1UHwXZK57",
    "outputId": "801fd12e-ffd4-4784-a5ff-59b016d084a8"
   },
   "outputs": [
    {
     "name": "stderr",
     "output_type": "stream",
     "text": [
      "The system cannot find the path specified.\n"
     ]
    }
   ],
   "source": [
    "# verify CUDA\n",
    "!/usr/local/cuda/bin/nvcc --version"
   ]
  },
  {
   "cell_type": "code",
   "execution_count": 4,
   "metadata": {
    "colab": {},
    "colab_type": "code",
    "id": "3DWRrVatZZZg"
   },
   "outputs": [
    {
     "name": "stderr",
     "output_type": "stream",
     "text": [
      "'make' is not recognized as an internal or external command,\n",
      "operable program or batch file.\n"
     ]
    }
   ],
   "source": [
    "# make darknet (build)\n",
    "!make"
   ]
  },
  {
   "cell_type": "markdown",
   "metadata": {
    "colab_type": "text",
    "id": "47-d_3xy36U9"
   },
   "source": [
    "# Download pretrained YOLOv3 weights\n",
    "YOLOv3 can detect 80 classs which was trained on coco dataset. we will save this weighted file in home directory of recenetly clone darknet "
   ]
  },
  {
   "cell_type": "code",
   "execution_count": 5,
   "metadata": {
    "colab": {
     "base_uri": "https://localhost:8080/",
     "height": 217
    },
    "colab_type": "code",
    "executionInfo": {
     "elapsed": 268983,
     "status": "ok",
     "timestamp": 1584941592439,
     "user": {
      "displayName": "Shubham Kumar",
      "photoUrl": "https://lh3.googleusercontent.com/a-/AOh14GhsHSvTm2DEYH648pv8eOptSKPeY2Yc8fmgLzvh=s64",
      "userId": "16610372454078100665"
     },
     "user_tz": -330
    },
    "id": "9QDHhDMgZTE9",
    "outputId": "25229986-44bc-4784-ec78-4b92430b64ca"
   },
   "outputs": [
    {
     "name": "stderr",
     "output_type": "stream",
     "text": [
      "'wget' is not recognized as an internal or external command,\n",
      "operable program or batch file.\n"
     ]
    }
   ],
   "source": [
    "# get yolov3 pretrained coco dataset weights\n",
    "!wget https://pjreddie.com/media/files/yolov3.weights"
   ]
  },
  {
   "cell_type": "code",
   "execution_count": 6,
   "metadata": {
    "colab": {},
    "colab_type": "code",
    "id": "w4Pm0VoqmGia"
   },
   "outputs": [],
   "source": [
    "# functions to show after prediction\n",
    "def imShow(path):\n",
    "  import cv2\n",
    "  import matplotlib.pyplot as plt\n",
    "  %matplotlib inline\n",
    "\n",
    "  image = cv2.imread(path)\n",
    "  height, width = image.shape[:2]\n",
    "  resized_image = cv2.resize(image,(3*width, 3*height), interpolation = cv2.INTER_CUBIC)\n",
    "\n",
    "  fig = plt.gcf()\n",
    "  fig.set_size_inches(18, 10)\n",
    "  plt.axis(\"off\")\n",
    "  plt.imshow(cv2.cvtColor(resized_image, cv2.COLOR_BGR2RGB))\n",
    "  plt.show()\n"
   ]
  },
  {
   "cell_type": "markdown",
   "metadata": {
    "colab_type": "text",
    "id": "lO3e0mod4d-p"
   },
   "source": [
    "# Run Detections with Darknet and YOLOv3!\n",
    "\n",
    "The object detector can be run using the following command\n",
    "```bash\n",
    "!./darknet detect <path to config> <path to weights> <path to image>\n",
    "```\n",
    "Darknet comes with a few images already installed in the darknet/data/ folder.\n",
    "\n",
    "**Note:** TO see the detected image run following command\n",
    "```bash\n",
    "imShow('predictions.jpg')\n",
    "```\n",
    "This will output the image with the detections shown. The most recent detections are always saved to 'predictions.jpg'\n",
    "\n"
   ]
  },
  {
   "cell_type": "code",
   "execution_count": 7,
   "metadata": {
    "colab": {},
    "colab_type": "code",
    "id": "tdOqwX-naCcN"
   },
   "outputs": [
    {
     "name": "stderr",
     "output_type": "stream",
     "text": [
      "'.' is not recognized as an internal or external command,\n",
      "operable program or batch file.\n"
     ]
    }
   ],
   "source": [
    "# run darknet detection\n",
    "!./darknet detect cfg/yolov3.cfg yolov3.weights data/person.jpg"
   ]
  },
  {
   "cell_type": "code",
   "execution_count": 8,
   "metadata": {
    "colab": {
     "base_uri": "https://localhost:8080/",
     "height": 575
    },
    "colab_type": "code",
    "executionInfo": {
     "elapsed": 4840,
     "status": "ok",
     "timestamp": 1584941711927,
     "user": {
      "displayName": "Shubham Kumar",
      "photoUrl": "https://lh3.googleusercontent.com/a-/AOh14GhsHSvTm2DEYH648pv8eOptSKPeY2Yc8fmgLzvh=s64",
      "userId": "16610372454078100665"
     },
     "user_tz": -330
    },
    "id": "_isNKIOFa3B2",
    "outputId": "0ad7adda-316f-4da5-8745-d223d3538465"
   },
   "outputs": [
    {
     "ename": "ModuleNotFoundError",
     "evalue": "No module named 'cv2'",
     "output_type": "error",
     "traceback": [
      "\u001b[1;31m---------------------------------------------------------------------------\u001b[0m",
      "\u001b[1;31mModuleNotFoundError\u001b[0m                       Traceback (most recent call last)",
      "\u001b[1;32m<ipython-input-8-2f91a359050e>\u001b[0m in \u001b[0;36m<module>\u001b[1;34m\u001b[0m\n\u001b[0;32m      1\u001b[0m \u001b[1;31m# show image using our helper function\u001b[0m\u001b[1;33m\u001b[0m\u001b[1;33m\u001b[0m\u001b[1;33m\u001b[0m\u001b[0m\n\u001b[1;32m----> 2\u001b[1;33m \u001b[0mimShow\u001b[0m\u001b[1;33m(\u001b[0m\u001b[1;34m'predictions.jpg'\u001b[0m\u001b[1;33m)\u001b[0m\u001b[1;33m\u001b[0m\u001b[1;33m\u001b[0m\u001b[0m\n\u001b[0m",
      "\u001b[1;32m<ipython-input-6-12d860f4784b>\u001b[0m in \u001b[0;36mimShow\u001b[1;34m(path)\u001b[0m\n\u001b[0;32m      1\u001b[0m \u001b[1;31m# functions to show after prediction\u001b[0m\u001b[1;33m\u001b[0m\u001b[1;33m\u001b[0m\u001b[1;33m\u001b[0m\u001b[0m\n\u001b[0;32m      2\u001b[0m \u001b[1;32mdef\u001b[0m \u001b[0mimShow\u001b[0m\u001b[1;33m(\u001b[0m\u001b[0mpath\u001b[0m\u001b[1;33m)\u001b[0m\u001b[1;33m:\u001b[0m\u001b[1;33m\u001b[0m\u001b[1;33m\u001b[0m\u001b[0m\n\u001b[1;32m----> 3\u001b[1;33m   \u001b[1;32mimport\u001b[0m \u001b[0mcv2\u001b[0m\u001b[1;33m\u001b[0m\u001b[1;33m\u001b[0m\u001b[0m\n\u001b[0m\u001b[0;32m      4\u001b[0m   \u001b[1;32mimport\u001b[0m \u001b[0mmatplotlib\u001b[0m\u001b[1;33m.\u001b[0m\u001b[0mpyplot\u001b[0m \u001b[1;32mas\u001b[0m \u001b[0mplt\u001b[0m\u001b[1;33m\u001b[0m\u001b[1;33m\u001b[0m\u001b[0m\n\u001b[0;32m      5\u001b[0m   \u001b[0mget_ipython\u001b[0m\u001b[1;33m(\u001b[0m\u001b[1;33m)\u001b[0m\u001b[1;33m.\u001b[0m\u001b[0mrun_line_magic\u001b[0m\u001b[1;33m(\u001b[0m\u001b[1;34m'matplotlib'\u001b[0m\u001b[1;33m,\u001b[0m \u001b[1;34m'inline'\u001b[0m\u001b[1;33m)\u001b[0m\u001b[1;33m\u001b[0m\u001b[1;33m\u001b[0m\u001b[0m\n",
      "\u001b[1;31mModuleNotFoundError\u001b[0m: No module named 'cv2'"
     ]
    }
   ],
   "source": [
    "# show image using our helper function\n",
    "imShow('predictions.jpg')"
   ]
  },
  {
   "cell_type": "code",
   "execution_count": null,
   "metadata": {
    "colab": {},
    "colab_type": "code",
    "id": "093xu9Gre3EN"
   },
   "outputs": [],
   "source": [
    "#  another detection!\n",
    "!./darknet detect cfg/yolov3.cfg yolov3.weights data/dog.jpg\n"
   ]
  },
  {
   "cell_type": "code",
   "execution_count": null,
   "metadata": {
    "colab": {
     "base_uri": "https://localhost:8080/",
     "height": 575
    },
    "colab_type": "code",
    "executionInfo": {
     "elapsed": 4014,
     "status": "ok",
     "timestamp": 1584941740585,
     "user": {
      "displayName": "Shubham Kumar",
      "photoUrl": "https://lh3.googleusercontent.com/a-/AOh14GhsHSvTm2DEYH648pv8eOptSKPeY2Yc8fmgLzvh=s64",
      "userId": "16610372454078100665"
     },
     "user_tz": -330
    },
    "id": "53NajqrfUDyb",
    "outputId": "95fbdab1-682c-4325-9b7d-4d01353b68f7"
   },
   "outputs": [],
   "source": [
    "imShow('predictions.jpg')"
   ]
  },
  {
   "cell_type": "markdown",
   "metadata": {
    "colab_type": "text",
    "id": "g34HIbX-ex2A"
   },
   "source": [
    "##Thank You\n",
    "\n",
    "**Click on below Data Activator and subscribe**\n",
    "\n",
    "[Data Activator](https://www.youtube.com/channel/UCfTviIEqZUeg5A4JCybDgAQ)"
   ]
  }
 ],
 "metadata": {
  "accelerator": "GPU",
  "colab": {
   "collapsed_sections": [],
   "name": "Object_Detection_YOLOv3.ipynb",
   "provenance": [],
   "toc_visible": true
  },
  "kernelspec": {
   "display_name": "Python 3",
   "language": "python",
   "name": "python3"
  },
  "language_info": {
   "codemirror_mode": {
    "name": "ipython",
    "version": 3
   },
   "file_extension": ".py",
   "mimetype": "text/x-python",
   "name": "python",
   "nbconvert_exporter": "python",
   "pygments_lexer": "ipython3",
   "version": "3.8.5"
  }
 },
 "nbformat": 4,
 "nbformat_minor": 1
}
